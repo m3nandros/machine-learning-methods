{
 "cells": [
  {
   "cell_type": "code",
   "execution_count": null,
   "metadata": {
    "colab": {
     "base_uri": "https://localhost:8080/"
    },
    "id": "G-zTC0szSxPI",
    "outputId": "f3f59a44-846b-4a54-8618-473f895e9740"
   },
   "outputs": [],
   "source": [
    "#!pip install xlrd==1.2.0 \n",
    "!pip install --upgrade xlrd"
   ]
  },
  {
   "cell_type": "code",
   "execution_count": null,
   "metadata": {
    "id": "nGFNyLUYSBrN"
   },
   "outputs": [],
   "source": [
    "import pandas as pd\n",
    "import numpy as np\n",
    "import seaborn as sns"
   ]
  },
  {
   "cell_type": "markdown",
   "metadata": {
    "id": "yNnNBMoLSBrP"
   },
   "source": [
    "список используемых ресурсов(для доработки проекта)\n",
    "очистка датасета\n",
    "https://proglib.io/p/moem-dataset-rukovodstvo-po-ochistke-dannyh-v-python-2020-03-27\n",
    "scatter-matrix\n",
    "https://www.kaggle.com/vijayprayagala/correlation-heat-map-and-scatter-matrix\n",
    "регрессия\n",
    "https://towardsdatascience.com/simple-and-multiple-linear-regression-in-python-c928425168f9\n",
    "\n"
   ]
  },
  {
   "cell_type": "code",
   "execution_count": null,
   "metadata": {
    "colab": {
     "base_uri": "https://localhost:8080/",
     "height": 592
    },
    "id": "tyVrtZSMSBrQ",
    "outputId": "b3884c6e-5754-4404-981c-da810a2b72dd",
    "scrolled": true
   },
   "outputs": [],
   "source": [
    "# место для кода\n",
    "xl = pd.ExcelFile('data1.xls')\n",
    "xl.sheet_names\n",
    "df = xl.parse(\"data2018\")\n",
    "df=df.replace(' ', np.nan)\n",
    "#df[0:217]\n",
    "df=df.dropna(how='all')\n",
    "df"
   ]
  },
  {
   "cell_type": "code",
   "execution_count": null,
   "metadata": {},
   "outputs": [],
   "source": []
  },
  {
   "cell_type": "code",
   "execution_count": null,
   "metadata": {},
   "outputs": [],
   "source": [
    "df.shape"
   ]
  },
  {
   "cell_type": "markdown",
   "metadata": {
    "id": "VUmu1BXvSBrR"
   },
   "source": [
    "### 2\n",
    "Выведите описание прочтенных данных. \n"
   ]
  },
  {
   "cell_type": "code",
   "execution_count": null,
   "metadata": {
    "colab": {
     "base_uri": "https://localhost:8080/",
     "height": 364
    },
    "id": "eSW0SeAvSBrS",
    "outputId": "cfc17532-b4c0-4d26-ce57-d18f68913f23",
    "scrolled": false
   },
   "outputs": [],
   "source": [
    "# примитивные статистики\n",
    "df.describe()"
   ]
  },
  {
   "cell_type": "markdown",
   "metadata": {
    "id": "D_25h_isSBrS"
   },
   "source": [
    "### 2 \n",
    "\n"
   ]
  },
  {
   "cell_type": "code",
   "execution_count": null,
   "metadata": {
    "colab": {
     "base_uri": "https://localhost:8080/"
    },
    "id": "LtWUBM_PSBrS",
    "outputId": "3519dce7-bbe5-4183-8fa6-ae6c90ca215c",
    "scrolled": false
   },
   "outputs": [],
   "source": [
    "# размерности\n",
    "print(df.shape)"
   ]
  },
  {
   "cell_type": "code",
   "execution_count": null,
   "metadata": {
    "colab": {
     "base_uri": "https://localhost:8080/"
    },
    "id": "87PykpQtSBrT",
    "outputId": "443ea775-815c-4c19-c897-ab799e44bed2"
   },
   "outputs": [],
   "source": [
    "print(df.dtypes)"
   ]
  },
  {
   "cell_type": "code",
   "execution_count": null,
   "metadata": {
    "colab": {
     "base_uri": "https://localhost:8080/"
    },
    "id": "S1Rdx2wZSBrT",
    "outputId": "6f3c5311-84c3-43fe-b2b9-b20e9aef0eba"
   },
   "outputs": [],
   "source": [
    "# отбор числовых столбцов\n",
    "df_numeric = df.select_dtypes(include=[np.number])\n",
    "numeric_cols = df_numeric.columns.values\n",
    "numeric_cols"
   ]
  },
  {
   "cell_type": "code",
   "execution_count": null,
   "metadata": {
    "colab": {
     "base_uri": "https://localhost:8080/"
    },
    "id": "aRlUddZiSBrT",
    "outputId": "4ec7f3d8-56a2-49f1-90f0-dafeb11f6381"
   },
   "outputs": [],
   "source": [
    "# отбор нечисловых столбцов\n",
    "df_non_numeric = df.select_dtypes(exclude=[np.number])\n",
    "non_numeric_cols = df_non_numeric.columns.values\n",
    "print(non_numeric_cols)"
   ]
  },
  {
   "cell_type": "code",
   "execution_count": null,
   "metadata": {
    "colab": {
     "base_uri": "https://localhost:8080/",
     "height": 350
    },
    "id": "HaHBKAC0SBrU",
    "outputId": "a1e38989-2188-48e9-a18e-10fadcbed01d"
   },
   "outputs": [],
   "source": [
    "cols = df.columns[:13] # первые 13 колонок\n",
    "# определяем цвета \n",
    "# желтый - пропущенные данные, синий - не пропущенные\n",
    "colours = ['#000099', '#ffff00'] \n",
    "sns.heatmap(df[cols].isnull(), cmap=sns.color_palette(colours))"
   ]
  },
  {
   "cell_type": "code",
   "execution_count": null,
   "metadata": {
    "colab": {
     "base_uri": "https://localhost:8080/"
    },
    "id": "yh6J80tLSBrU",
    "outputId": "2034f799-083b-4ee3-e070-40747b155d2e"
   },
   "outputs": [],
   "source": [
    "#список долей отсутствующих записей для каждого признака\n",
    "for col in df.columns:\n",
    "    pct_missing = np.mean(df[col].isnull())\n",
    "    print('{} - {}%'.format(col, round(pct_missing*100)))"
   ]
  },
  {
   "cell_type": "code",
   "execution_count": null,
   "metadata": {
    "colab": {
     "base_uri": "https://localhost:8080/",
     "height": 496
    },
    "id": "HS7Z3WFoSBrV",
    "outputId": "a25ca6f2-dcf2-49e3-82cb-3e11f4b1d17d"
   },
   "outputs": [],
   "source": [
    "# создаем индикатор для признаков с пропущенными данными\n",
    "for col in df.columns:\n",
    "    missing = df[col].isnull()\n",
    "    num_missing = np.sum(missing)\n",
    "    \n",
    "    if num_missing > 0:  \n",
    "        print('created missing indicator for: {}'.format(col))\n",
    "        df['{}_ismissing'.format(col)] = missing\n",
    "\n",
    "# на основе индикатора строим гистограмму\n",
    "ismissing_cols = [col for col in df.columns if 'ismissing' in col]\n",
    "df['num_missing'] = df[ismissing_cols].sum(axis=1)\n",
    "\n",
    "df['num_missing'].value_counts().reset_index().sort_values(by='index').plot.bar(x='index', y='num_missing')\n"
   ]
  },
  {
   "cell_type": "code",
   "execution_count": null,
   "metadata": {
    "colab": {
     "base_uri": "https://localhost:8080/",
     "height": 592
    },
    "id": "Ixbayfn3SBrV",
    "outputId": "9c1e1c97-959c-4f0f-dc11-1b99ea0b255c"
   },
   "outputs": [],
   "source": [
    "df"
   ]
  },
  {
   "cell_type": "code",
   "execution_count": null,
   "metadata": {
    "colab": {
     "base_uri": "https://localhost:8080/",
     "height": 294
    },
    "id": "TaRIXW2ZSBrW",
    "outputId": "21974ca8-b8cd-4277-d8b5-0e9077394f41",
    "scrolled": false
   },
   "outputs": [],
   "source": [
    "df.boxplot(column=['FDI'])"
   ]
  },
  {
   "cell_type": "code",
   "execution_count": null,
   "metadata": {
    "colab": {
     "base_uri": "https://localhost:8080/",
     "height": 295
    },
    "id": "Y8-RmfZTSBrW",
    "outputId": "5c06d69a-ca4d-4d53-bffd-0e60f4ae8cb0",
    "scrolled": true
   },
   "outputs": [],
   "source": [
    "df.boxplot(column=['GDP_PPP'])"
   ]
  },
  {
   "cell_type": "code",
   "execution_count": null,
   "metadata": {
    "colab": {
     "base_uri": "https://localhost:8080/",
     "height": 284
    },
    "id": "-sh0aYY3SBrW",
    "outputId": "c0c0db8e-ce82-4444-8020-a0211316de44",
    "scrolled": true
   },
   "outputs": [],
   "source": [
    "df.boxplot(column=['GDP_GROWTH'])"
   ]
  },
  {
   "cell_type": "code",
   "execution_count": null,
   "metadata": {
    "colab": {
     "base_uri": "https://localhost:8080/",
     "height": 283
    },
    "id": "QYR_fxfySBrX",
    "outputId": "2e9cd40b-32e5-4d95-b72d-7532dce6975e",
    "scrolled": true
   },
   "outputs": [],
   "source": [
    "df.boxplot(column=['IMPORTS'])"
   ]
  },
  {
   "cell_type": "code",
   "execution_count": null,
   "metadata": {
    "colab": {
     "base_uri": "https://localhost:8080/",
     "height": 283
    },
    "id": "oTgw1a0cSBrX",
    "outputId": "5ed57b89-fb27-47a2-f37f-45c930a34ddc",
    "scrolled": true
   },
   "outputs": [],
   "source": [
    "df.boxplot(column=['EXPORTS'])"
   ]
  },
  {
   "cell_type": "code",
   "execution_count": null,
   "metadata": {
    "colab": {
     "base_uri": "https://localhost:8080/",
     "height": 294
    },
    "id": "suXCJimNSBrX",
    "outputId": "49a29781-037b-4dc7-dc86-8538cdbbd2da",
    "scrolled": true
   },
   "outputs": [],
   "source": [
    "df.boxplot(column=['CHARGES'])"
   ]
  },
  {
   "cell_type": "code",
   "execution_count": null,
   "metadata": {
    "colab": {
     "base_uri": "https://localhost:8080/",
     "height": 295
    },
    "id": "UJBbnnDESBrY",
    "outputId": "b5ccc207-8af7-488e-869b-98d36bda76f0",
    "scrolled": true
   },
   "outputs": [],
   "source": [
    "df.boxplot(column=['LABOR_FORCE'])"
   ]
  },
  {
   "cell_type": "code",
   "execution_count": null,
   "metadata": {
    "colab": {
     "base_uri": "https://localhost:8080/",
     "height": 286
    },
    "id": "P4r_AS-XSBrY",
    "outputId": "7ecefe5c-7c32-4a67-a8e1-c722f2ac3595",
    "scrolled": true
   },
   "outputs": [],
   "source": [
    "df.boxplot(column=['EDB'])"
   ]
  },
  {
   "cell_type": "code",
   "execution_count": null,
   "metadata": {
    "colab": {
     "base_uri": "https://localhost:8080/",
     "height": 294
    },
    "id": "sylog1UgSBrY",
    "outputId": "477890dd-59b6-4f23-854c-2f698208e061",
    "scrolled": true
   },
   "outputs": [],
   "source": [
    "df.boxplot(column=['RESERVES'])"
   ]
  },
  {
   "cell_type": "code",
   "execution_count": null,
   "metadata": {
    "colab": {
     "base_uri": "https://localhost:8080/",
     "height": 283
    },
    "id": "_6UKisYwSBrZ",
    "outputId": "1a598fc2-6393-4baa-f712-8be9a2a6ec6b",
    "scrolled": true
   },
   "outputs": [],
   "source": [
    "df.boxplot(column=['RATE'])"
   ]
  },
  {
   "cell_type": "code",
   "execution_count": null,
   "metadata": {
    "colab": {
     "base_uri": "https://localhost:8080/",
     "height": 283
    },
    "id": "7K9IlsxoSBrZ",
    "outputId": "f1fb0bc5-3cd7-4d74-a143-4b147496e68e",
    "scrolled": true
   },
   "outputs": [],
   "source": [
    "df.boxplot(column=['HCI'])"
   ]
  },
  {
   "cell_type": "code",
   "execution_count": null,
   "metadata": {
    "colab": {
     "base_uri": "https://localhost:8080/",
     "height": 1000
    },
    "id": "v9FO_7_ISBrZ",
    "outputId": "d70eece3-7cc8-43a1-9ada-4cfa68f3bc15"
   },
   "outputs": [],
   "source": [
    "from pandas.plotting import scatter_matrix\n",
    "#scatter_matrix(df[2:3],figsize=[20,20])\n",
    "attr=list(df.columns[2:10])\n",
    "attr\n",
    "df1=df.loc[:,attr]\n",
    "df1\n",
    "pd.plotting.scatter_matrix(df1,figsize=(12,12))"
   ]
  },
  {
   "cell_type": "code",
   "execution_count": null,
   "metadata": {
    "colab": {
     "base_uri": "https://localhost:8080/",
     "height": 364
    },
    "id": "NGAa_rXjSBrZ",
    "outputId": "3f13e0ae-8d32-4381-fce4-c4d6d1c0098a",
    "scrolled": true
   },
   "outputs": [],
   "source": [
    "# описательные статистики\n",
    "df.describe()"
   ]
  },
  {
   "cell_type": "code",
   "execution_count": null,
   "metadata": {
    "id": "qHAYL7BCSBra"
   },
   "outputs": [],
   "source": [
    "#Корреляция между переменными\n",
    "import matplotlib.pyplot as plt\n",
    "def plot_corr_matrix(data_basic,attr,fig_no, method):\n",
    "    correlations=data_basic.corr(method=method)\n",
    "    fig=plt.figure(fig_no)\n",
    "    ax=fig.add_subplot(111)\n",
    "    ax.set_title(\"Correlation Matrix for Specified Attributes\")\n",
    "    ax.set_xticklabels(['']+attr)\n",
    "    ax.set_yticklabels(['']+attr)\n",
    "    cax=ax.matshow(correlations,vmax=1,vmin=-1)\n",
    "    fig.colorbar(cax)\n",
    "    plt.show()"
   ]
  },
  {
   "cell_type": "code",
   "execution_count": null,
   "metadata": {
    "id": "SVGvjEkQUvLa"
   },
   "outputs": [],
   "source": []
  },
  {
   "cell_type": "code",
   "execution_count": null,
   "metadata": {
    "colab": {
     "base_uri": "https://localhost:8080/",
     "height": 809
    },
    "id": "uousmX8ZSBra",
    "outputId": "60309265-e042-4f1b-99d5-7994605150a3",
    "scrolled": true
   },
   "outputs": [],
   "source": [
    "plot_corr_matrix(df1,attr,2, 'pearson')\n",
    "plot_corr_matrix(df1,attr,2, 'kendall')\n",
    "plot_corr_matrix(df1,attr,2, 'spearman')\n",
    "\n",
    "#correlations=df1.corr(method='pearson')\n",
    "#correlations"
   ]
  },
  {
   "cell_type": "code",
   "execution_count": null,
   "metadata": {
    "colab": {
     "base_uri": "https://localhost:8080/"
    },
    "id": "9TT_5rrnSBra",
    "outputId": "a41ebd92-8968-47e4-e9f8-91a91c6f0183"
   },
   "outputs": [],
   "source": [
    "import statsmodels.api as sm"
   ]
  },
  {
   "cell_type": "code",
   "execution_count": null,
   "metadata": {
    "colab": {
     "base_uri": "https://localhost:8080/"
    },
    "id": "RIF948KfSBra",
    "outputId": "bafeb603-6ba8-4cde-d589-340e78110629"
   },
   "outputs": [],
   "source": [
    "df=df.fillna(df.mean())\n",
    "feature_names={'GDP_PPP'}\n",
    "target_name={'FDI'}"
   ]
  },
  {
   "cell_type": "code",
   "execution_count": null,
   "metadata": {
    "colab": {
     "base_uri": "https://localhost:8080/"
    },
    "id": "DCAww-mPO2tu",
    "outputId": "bf93fd95-fa6d-4cf7-f9c6-690731b9cc08"
   },
   "outputs": [],
   "source": [
    "df=df.fillna(df.mean())\n",
    "feature_names={'GDP_PPP', 'GDP_GROWTH', 'IMPORTS', 'EXPORTS', 'CHARGES',\n",
    "       'LABOR_FORCE', 'EDB', 'RESERVES', 'RATE', 'HCI'}\n",
    "\n",
    "target_name={'FDI'}"
   ]
  },
  {
   "cell_type": "code",
   "execution_count": null,
   "metadata": {
    "colab": {
     "base_uri": "https://localhost:8080/",
     "height": 657
    },
    "id": "xCr4_mVpSBrb",
    "outputId": "0627c142-1bb4-4ba6-95b9-ddcfdc9d81b7"
   },
   "outputs": [],
   "source": [
    "X = df[feature_names]\n",
    "y = df[target_name]\n",
    "\n",
    "# Note the difference in argument order\n",
    "model = sm.OLS(y, X).fit()\n",
    "predictions = model.predict(X) # make the predictions by the model\n",
    "\n",
    "# Print out the statistics\n",
    "model.summary()"
   ]
  },
  {
   "cell_type": "code",
   "execution_count": null,
   "metadata": {
    "id": "n7YwTkZUSBrb"
   },
   "outputs": [],
   "source": [
    "from sklearn.linear_model import Ridge, Lasso"
   ]
  },
  {
   "cell_type": "code",
   "execution_count": null,
   "metadata": {
    "colab": {
     "base_uri": "https://localhost:8080/"
    },
    "id": "TorkYletpbti",
    "outputId": "2ce910ee-cf09-469e-94c5-bede894c2903"
   },
   "outputs": [],
   "source": [
    "X = df[feature_names]\n",
    "y = df[target_name]\n",
    "print(X, y)"
   ]
  },
  {
   "cell_type": "code",
   "execution_count": null,
   "metadata": {
    "id": "WRkag70DpbwL"
   },
   "outputs": [],
   "source": [
    "#split data"
   ]
  },
  {
   "cell_type": "code",
   "execution_count": null,
   "metadata": {
    "colab": {
     "base_uri": "https://localhost:8080/"
    },
    "id": "EikCGGIzpb2e",
    "outputId": "33c3e296-292f-487d-ca20-4f16e228ac52"
   },
   "outputs": [],
   "source": [
    "model = Lasso(alpha=0.1, random_state=241)\n",
    "model.fit(X, y)"
   ]
  },
  {
   "cell_type": "code",
   "execution_count": null,
   "metadata": {},
   "outputs": [],
   "source": [
    "model.coef_"
   ]
  },
  {
   "cell_type": "code",
   "execution_count": null,
   "metadata": {
    "colab": {
     "base_uri": "https://localhost:8080/"
    },
    "id": "foH7WjN9pb4j",
    "outputId": "34919456-6073-43c4-8451-1e63f011af4e"
   },
   "outputs": [],
   "source": [
    "y_pred = model.predict(X)\n",
    "#print(y_pred)"
   ]
  },
  {
   "cell_type": "code",
   "execution_count": null,
   "metadata": {
    "id": "aGQeyd8PrNgt"
   },
   "outputs": [],
   "source": [
    "from matplotlib import pyplot as plt\n",
    "import plotly.graph_objects as go\n",
    "import plotly.express as px\n",
    "import plotly"
   ]
  },
  {
   "cell_type": "code",
   "execution_count": null,
   "metadata": {
    "colab": {
     "base_uri": "https://localhost:8080/",
     "height": 542
    },
    "id": "O0z8Gon9pb6c",
    "outputId": "3ac1e718-c88f-4724-9d61-fa0394eb8c88"
   },
   "outputs": [],
   "source": [
    "fig = go.Figure()\n",
    "fig.add_trace(go.Scatter(x=X.index,y = y_pred.squeeze(),mode='lines',name='y_hat'))\n",
    "fig.add_trace(go.Scatter(x=X.index,y = y.squeeze(),mode='lines',name='y_fact'))\n",
    "#fig.update_layout(title=f\"MAPE: {mapes[-1]}%\")\n",
    "#figures.append(fig)\n",
    "fig.show()\n"
   ]
  },
  {
   "cell_type": "code",
   "execution_count": null,
   "metadata": {
    "colab": {
     "base_uri": "https://localhost:8080/"
    },
    "id": "nArGs6BCpcMw",
    "outputId": "e29a672c-823f-4429-e10e-bbecf4d8edb0"
   },
   "outputs": [],
   "source": [
    "model1 = Ridge(alpha=0.1, random_state=241)\n",
    "model1.fit(X, y)\n",
    "y_pred = model1.predict(X)"
   ]
  },
  {
   "cell_type": "code",
   "execution_count": null,
   "metadata": {
    "id": "-QZwiDFhsD3D"
   },
   "outputs": [],
   "source": [
    "model.coef_"
   ]
  },
  {
   "cell_type": "code",
   "execution_count": null,
   "metadata": {},
   "outputs": [],
   "source": [
    "#0.001\n",
    "model1.coef_"
   ]
  },
  {
   "cell_type": "code",
   "execution_count": null,
   "metadata": {},
   "outputs": [],
   "source": [
    "#1000\n",
    "model1.coef_"
   ]
  },
  {
   "cell_type": "code",
   "execution_count": null,
   "metadata": {
    "colab": {
     "base_uri": "https://localhost:8080/",
     "height": 542
    },
    "id": "ZhfO_o6qr4N7",
    "outputId": "dec56616-46ca-4236-ba55-15877bb09bf8"
   },
   "outputs": [],
   "source": [
    "fig = go.Figure()\n",
    "fig.add_trace(go.Scatter(x=X.index,y = y_pred.squeeze(),mode='lines',name='y_hat'))\n",
    "fig.add_trace(go.Scatter(x=X.index,y = y.squeeze(),mode='lines',name='y_fact'))\n",
    "#fig.update_layout(title=f\"MAPE: {mapes[-1]}%\")\n",
    "#figures.append(fig)\n",
    "fig.show()"
   ]
  },
  {
   "cell_type": "code",
   "execution_count": null,
   "metadata": {},
   "outputs": [],
   "source": []
  },
  {
   "cell_type": "code",
   "execution_count": null,
   "metadata": {
    "colab": {
     "base_uri": "https://localhost:8080/"
    },
    "id": "01vX4g6vsE56",
    "outputId": "78c972ae-061c-4bf1-b941-5f61e74a9a1e"
   },
   "outputs": [],
   "source": [
    "print(\"Ridge coefs: \", model1.coef_)\n",
    "print(\"Lasso coefs: \", model.coef_)"
   ]
  },
  {
   "cell_type": "code",
   "execution_count": null,
   "metadata": {
    "colab": {
     "base_uri": "https://localhost:8080/"
    },
    "id": "d4cJ7FE9zd9M",
    "outputId": "8944bffa-07b7-4c91-b4a8-0d673766f699"
   },
   "outputs": [],
   "source": [
    "print(type(np.array(y.values)))\n",
    "print(type(y_pred))\n",
    "np_pred = np.array(y.values).reshape(-1)\n",
    "print(np_pred.shape)\n",
    "print(y_pred.shape)\n",
    "print(np.diff(y_pred - np.array(y.values)).shape)\n",
    "print(np.diff(y_pred - np.array(y.values)))"
   ]
  },
  {
   "cell_type": "code",
   "execution_count": null,
   "metadata": {
    "id": "KzL5JfkGsgio"
   },
   "outputs": [],
   "source": [
    "import math\n",
    "def regression_model(name, X, y, alpha):\n",
    "  if name == 'Ridge':\n",
    "    model = Ridge(alpha=alpha, random_state=241)\n",
    "  else:\n",
    "    model = Lasso(alpha=alpha, random_state=241)\n",
    "  model.fit(X, y)\n",
    "  y_pred = model.predict(X)\n",
    "\n",
    "  fig = go.Figure()\n",
    "  fig.add_trace(go.Scatter(x=X.index,y = y_pred.squeeze(),mode='lines',name='y_hat'))\n",
    "  fig.add_trace(go.Scatter(x=X.index,y = y.squeeze(),mode='lines',name='y_fact')) \n",
    "  error = 0\n",
    "  for i in range(len(y_pred)):\n",
    "    error += (y_pred[i] - y.iloc[i])*(y_pred[i] - y.iloc[i])\n",
    "  return model, y_pred, fig, math.sqrt(error)/ len(y_pred)\n"
   ]
  },
  {
   "cell_type": "code",
   "execution_count": null,
   "metadata": {
    "colab": {
     "base_uri": "https://localhost:8080/",
     "height": 1000
    },
    "id": "33sAzhDcsgts",
    "outputId": "cccde19c-1f5d-481d-edb9-dfbb8be560e4"
   },
   "outputs": [],
   "source": [
    "for alpha in [0.1, 1, 10, 100, 1000]:\n",
    "  model, y_pred, fig, err = regression_model('Ridge', X, y, alpha)\n",
    "  fig.update_layout(title=f\"ERR: {err}\")\n",
    "  fig.show()\n",
    "  print(err)\n",
    "\n"
   ]
  },
  {
   "cell_type": "code",
   "execution_count": null,
   "metadata": {
    "colab": {
     "base_uri": "https://localhost:8080/"
    },
    "id": "ElRx6fQ-sgzZ",
    "outputId": "c9c1378e-90c8-4243-b47d-8981d9623791"
   },
   "outputs": [],
   "source": [
    "print(X.columns)\n",
    "print(list(X.median()))\n",
    "print(y.median())\n",
    "for alpha in [0.1, 1, 10, 100, 1000]:\n",
    "  model, y_pred, fig = regression_model('Ridge', X, y, alpha)\n",
    "  \n",
    "  #print(model.coef_)\n",
    "  print([model.coef_[0][i]*list(X.median())[i] for i in range(9)])\n",
    "  "
   ]
  },
  {
   "cell_type": "code",
   "execution_count": null,
   "metadata": {
    "colab": {
     "base_uri": "https://localhost:8080/"
    },
    "id": "ktRSX9CRsg4v",
    "outputId": "a8cc2d14-9b6b-40f3-e6e0-21e384541969"
   },
   "outputs": [],
   "source": [
    "for alpha in [0.1, 1, 10, 100, 1000]:\n",
    "  model, y_pred, fig = regression_model('Lasso', X, y, alpha)\n",
    "  \n",
    "  print(model.coef_)\n",
    "  #print([model.coef_[i]*list(X.median())[i] for i in range(9)])"
   ]
  },
  {
   "cell_type": "code",
   "execution_count": null,
   "metadata": {
    "id": "JRPmCIxLsg-9"
   },
   "outputs": [],
   "source": []
  },
  {
   "cell_type": "code",
   "execution_count": null,
   "metadata": {
    "id": "ZDLXBQIRshFy"
   },
   "outputs": [],
   "source": []
  },
  {
   "cell_type": "code",
   "execution_count": null,
   "metadata": {
    "id": "R6M_unAwshLv"
   },
   "outputs": [],
   "source": []
  },
  {
   "cell_type": "code",
   "execution_count": null,
   "metadata": {
    "id": "-g7GrDXRshSi"
   },
   "outputs": [],
   "source": []
  }
 ],
 "metadata": {
  "colab": {
   "collapsed_sections": [],
   "name": "lab_examples.ipynb",
   "provenance": []
  },
  "kernelspec": {
   "display_name": "Python 3 (ipykernel)",
   "language": "python",
   "name": "python3"
  },
  "language_info": {
   "codemirror_mode": {
    "name": "ipython",
    "version": 3
   },
   "file_extension": ".py",
   "mimetype": "text/x-python",
   "name": "python",
   "nbconvert_exporter": "python",
   "pygments_lexer": "ipython3",
   "version": "3.9.7"
  }
 },
 "nbformat": 4,
 "nbformat_minor": 1
}
